{
 "cells": [
  {
   "cell_type": "code",
   "execution_count": 1,
   "metadata": {},
   "outputs": [],
   "source": [
    "%matplotlib inline\n",
    "import pickle\n",
    "\n",
    "import pandas as pd\n",
    "import numpy as np\n",
    "\n",
    "from scikitplot.metrics import plot_confusion_matrix\n",
    "from matplotlib import pyplot as plt\n",
    "\n",
    "from sklearn.impute import SimpleImputer\n",
    "from sklearn.metrics import roc_auc_score, auc, roc_curve\n",
    "\n",
    "from catboost import CatBoostClassifier\n",
    "from transformer import transform_df"
   ]
  },
  {
   "attachments": {},
   "cell_type": "markdown",
   "metadata": {},
   "source": [
    "**Загружаем данные**"
   ]
  },
  {
   "cell_type": "code",
   "execution_count": 2,
   "metadata": {},
   "outputs": [
    {
     "data": {
      "text/html": [
       "<div>\n",
       "<style scoped>\n",
       "    .dataframe tbody tr th:only-of-type {\n",
       "        vertical-align: middle;\n",
       "    }\n",
       "\n",
       "    .dataframe tbody tr th {\n",
       "        vertical-align: top;\n",
       "    }\n",
       "\n",
       "    .dataframe thead th {\n",
       "        text-align: right;\n",
       "    }\n",
       "</style>\n",
       "<table border=\"1\" class=\"dataframe\">\n",
       "  <thead>\n",
       "    <tr style=\"text-align: right;\">\n",
       "      <th></th>\n",
       "      <th>client_id</th>\n",
       "      <th>gender</th>\n",
       "      <th>age</th>\n",
       "      <th>marital_status</th>\n",
       "      <th>job_position</th>\n",
       "      <th>credit_sum</th>\n",
       "      <th>credit_month</th>\n",
       "      <th>tariff_id</th>\n",
       "      <th>score_shk</th>\n",
       "      <th>education</th>\n",
       "      <th>living_region</th>\n",
       "      <th>monthly_income</th>\n",
       "      <th>credit_count</th>\n",
       "      <th>overdue_credit_count</th>\n",
       "      <th>open_account_flg</th>\n",
       "    </tr>\n",
       "  </thead>\n",
       "  <tbody>\n",
       "    <tr>\n",
       "      <th>0</th>\n",
       "      <td>52372</td>\n",
       "      <td>M</td>\n",
       "      <td>38</td>\n",
       "      <td>MAR</td>\n",
       "      <td>SPC</td>\n",
       "      <td>12168,00</td>\n",
       "      <td>10</td>\n",
       "      <td>1.1</td>\n",
       "      <td>0,308454</td>\n",
       "      <td>GRD</td>\n",
       "      <td>ОБЛ ВОЛОГОДСКАЯ</td>\n",
       "      <td>25000.0</td>\n",
       "      <td>0.0</td>\n",
       "      <td>0.0</td>\n",
       "      <td>0</td>\n",
       "    </tr>\n",
       "    <tr>\n",
       "      <th>1</th>\n",
       "      <td>75213</td>\n",
       "      <td>F</td>\n",
       "      <td>36</td>\n",
       "      <td>MAR</td>\n",
       "      <td>SPC</td>\n",
       "      <td>17738,00</td>\n",
       "      <td>10</td>\n",
       "      <td>1.1</td>\n",
       "      <td>0,498147</td>\n",
       "      <td>GRD</td>\n",
       "      <td>ОБЛ БЕЛГОРОДСКАЯ</td>\n",
       "      <td>25000.0</td>\n",
       "      <td>4.0</td>\n",
       "      <td>0.0</td>\n",
       "      <td>0</td>\n",
       "    </tr>\n",
       "    <tr>\n",
       "      <th>2</th>\n",
       "      <td>119931</td>\n",
       "      <td>M</td>\n",
       "      <td>23</td>\n",
       "      <td>UNM</td>\n",
       "      <td>SPC</td>\n",
       "      <td>26489,00</td>\n",
       "      <td>10</td>\n",
       "      <td>1.1</td>\n",
       "      <td>0,431980</td>\n",
       "      <td>SCH</td>\n",
       "      <td>ЧЕЛЯБИНСКАЯ ОБЛ</td>\n",
       "      <td>25000.0</td>\n",
       "      <td>NaN</td>\n",
       "      <td>NaN</td>\n",
       "      <td>0</td>\n",
       "    </tr>\n",
       "    <tr>\n",
       "      <th>3</th>\n",
       "      <td>134365</td>\n",
       "      <td>M</td>\n",
       "      <td>24</td>\n",
       "      <td>UNM</td>\n",
       "      <td>SPC</td>\n",
       "      <td>20379,00</td>\n",
       "      <td>12</td>\n",
       "      <td>1.6</td>\n",
       "      <td>0,770546</td>\n",
       "      <td>GRD</td>\n",
       "      <td>РЕСП КАРАЧАЕВО-ЧЕРКЕССКАЯ</td>\n",
       "      <td>50000.0</td>\n",
       "      <td>NaN</td>\n",
       "      <td>NaN</td>\n",
       "      <td>1</td>\n",
       "    </tr>\n",
       "    <tr>\n",
       "      <th>4</th>\n",
       "      <td>138695</td>\n",
       "      <td>F</td>\n",
       "      <td>47</td>\n",
       "      <td>MAR</td>\n",
       "      <td>SPC</td>\n",
       "      <td>12019,00</td>\n",
       "      <td>10</td>\n",
       "      <td>1.6</td>\n",
       "      <td>0,617275</td>\n",
       "      <td>SCH</td>\n",
       "      <td>УЛЬЯНОВСКАЯ ОБЛ</td>\n",
       "      <td>18000.0</td>\n",
       "      <td>0.0</td>\n",
       "      <td>0.0</td>\n",
       "      <td>0</td>\n",
       "    </tr>\n",
       "  </tbody>\n",
       "</table>\n",
       "</div>"
      ],
      "text/plain": [
       "   client_id gender  age marital_status job_position credit_sum  credit_month  \\\n",
       "0      52372      M   38            MAR          SPC   12168,00            10   \n",
       "1      75213      F   36            MAR          SPC   17738,00            10   \n",
       "2     119931      M   23            UNM          SPC   26489,00            10   \n",
       "3     134365      M   24            UNM          SPC   20379,00            12   \n",
       "4     138695      F   47            MAR          SPC   12019,00            10   \n",
       "\n",
       "  tariff_id score_shk education              living_region  monthly_income  \\\n",
       "0       1.1  0,308454       GRD            ОБЛ ВОЛОГОДСКАЯ         25000.0   \n",
       "1       1.1  0,498147       GRD           ОБЛ БЕЛГОРОДСКАЯ         25000.0   \n",
       "2       1.1  0,431980       SCH            ЧЕЛЯБИНСКАЯ ОБЛ         25000.0   \n",
       "3       1.6  0,770546       GRD  РЕСП КАРАЧАЕВО-ЧЕРКЕССКАЯ         50000.0   \n",
       "4       1.6  0,617275       SCH            УЛЬЯНОВСКАЯ ОБЛ         18000.0   \n",
       "\n",
       "   credit_count  overdue_credit_count  open_account_flg  \n",
       "0           0.0                   0.0                 0  \n",
       "1           4.0                   0.0                 0  \n",
       "2           NaN                   NaN                 0  \n",
       "3           NaN                   NaN                 1  \n",
       "4           0.0                   0.0                 0  "
      ]
     },
     "execution_count": 2,
     "metadata": {},
     "output_type": "execute_result"
    }
   ],
   "source": [
    "df = pd.read_csv('data/credit_train.csv', dtype={'tariff_id':'string'})\n",
    "df.head()"
   ]
  },
  {
   "cell_type": "code",
   "execution_count": 3,
   "metadata": {},
   "outputs": [
    {
     "data": {
      "text/html": [
       "<div>\n",
       "<style scoped>\n",
       "    .dataframe tbody tr th:only-of-type {\n",
       "        vertical-align: middle;\n",
       "    }\n",
       "\n",
       "    .dataframe tbody tr th {\n",
       "        vertical-align: top;\n",
       "    }\n",
       "\n",
       "    .dataframe thead th {\n",
       "        text-align: right;\n",
       "    }\n",
       "</style>\n",
       "<table border=\"1\" class=\"dataframe\">\n",
       "  <thead>\n",
       "    <tr style=\"text-align: right;\">\n",
       "      <th></th>\n",
       "      <th>count</th>\n",
       "      <th>mean</th>\n",
       "      <th>std</th>\n",
       "      <th>min</th>\n",
       "      <th>25%</th>\n",
       "      <th>50%</th>\n",
       "      <th>75%</th>\n",
       "      <th>max</th>\n",
       "    </tr>\n",
       "  </thead>\n",
       "  <tbody>\n",
       "    <tr>\n",
       "      <th>client_id</th>\n",
       "      <td>136596.0</td>\n",
       "      <td>85373.933095</td>\n",
       "      <td>49297.673514</td>\n",
       "      <td>1.0</td>\n",
       "      <td>42711.75</td>\n",
       "      <td>85314.5</td>\n",
       "      <td>128064.25</td>\n",
       "      <td>170745.0</td>\n",
       "    </tr>\n",
       "    <tr>\n",
       "      <th>age</th>\n",
       "      <td>136596.0</td>\n",
       "      <td>36.514876</td>\n",
       "      <td>10.554118</td>\n",
       "      <td>18.0</td>\n",
       "      <td>28.00</td>\n",
       "      <td>34.0</td>\n",
       "      <td>43.00</td>\n",
       "      <td>71.0</td>\n",
       "    </tr>\n",
       "    <tr>\n",
       "      <th>credit_month</th>\n",
       "      <td>136596.0</td>\n",
       "      <td>10.978799</td>\n",
       "      <td>3.534678</td>\n",
       "      <td>3.0</td>\n",
       "      <td>10.00</td>\n",
       "      <td>10.0</td>\n",
       "      <td>12.00</td>\n",
       "      <td>36.0</td>\n",
       "    </tr>\n",
       "    <tr>\n",
       "      <th>monthly_income</th>\n",
       "      <td>136595.0</td>\n",
       "      <td>40142.138570</td>\n",
       "      <td>25058.534874</td>\n",
       "      <td>5000.0</td>\n",
       "      <td>25000.00</td>\n",
       "      <td>35000.0</td>\n",
       "      <td>50000.00</td>\n",
       "      <td>950000.0</td>\n",
       "    </tr>\n",
       "    <tr>\n",
       "      <th>credit_count</th>\n",
       "      <td>129231.0</td>\n",
       "      <td>2.106623</td>\n",
       "      <td>1.777846</td>\n",
       "      <td>0.0</td>\n",
       "      <td>1.00</td>\n",
       "      <td>2.0</td>\n",
       "      <td>3.00</td>\n",
       "      <td>21.0</td>\n",
       "    </tr>\n",
       "    <tr>\n",
       "      <th>overdue_credit_count</th>\n",
       "      <td>129231.0</td>\n",
       "      <td>0.046382</td>\n",
       "      <td>0.212034</td>\n",
       "      <td>0.0</td>\n",
       "      <td>0.00</td>\n",
       "      <td>0.0</td>\n",
       "      <td>0.00</td>\n",
       "      <td>3.0</td>\n",
       "    </tr>\n",
       "    <tr>\n",
       "      <th>open_account_flg</th>\n",
       "      <td>136596.0</td>\n",
       "      <td>0.176030</td>\n",
       "      <td>0.380847</td>\n",
       "      <td>0.0</td>\n",
       "      <td>0.00</td>\n",
       "      <td>0.0</td>\n",
       "      <td>0.00</td>\n",
       "      <td>1.0</td>\n",
       "    </tr>\n",
       "  </tbody>\n",
       "</table>\n",
       "</div>"
      ],
      "text/plain": [
       "                         count          mean           std     min       25%  \\\n",
       "client_id             136596.0  85373.933095  49297.673514     1.0  42711.75   \n",
       "age                   136596.0     36.514876     10.554118    18.0     28.00   \n",
       "credit_month          136596.0     10.978799      3.534678     3.0     10.00   \n",
       "monthly_income        136595.0  40142.138570  25058.534874  5000.0  25000.00   \n",
       "credit_count          129231.0      2.106623      1.777846     0.0      1.00   \n",
       "overdue_credit_count  129231.0      0.046382      0.212034     0.0      0.00   \n",
       "open_account_flg      136596.0      0.176030      0.380847     0.0      0.00   \n",
       "\n",
       "                          50%        75%       max  \n",
       "client_id             85314.5  128064.25  170745.0  \n",
       "age                      34.0      43.00      71.0  \n",
       "credit_month             10.0      12.00      36.0  \n",
       "monthly_income        35000.0   50000.00  950000.0  \n",
       "credit_count              2.0       3.00      21.0  \n",
       "overdue_credit_count      0.0       0.00       3.0  \n",
       "open_account_flg          0.0       0.00       1.0  "
      ]
     },
     "execution_count": 3,
     "metadata": {},
     "output_type": "execute_result"
    }
   ],
   "source": [
    "df.describe().T"
   ]
  },
  {
   "attachments": {},
   "cell_type": "markdown",
   "metadata": {},
   "source": [
    "**Распределение клиентов на тех кто открыл кредитный счет**"
   ]
  },
  {
   "cell_type": "code",
   "execution_count": 4,
   "metadata": {},
   "outputs": [
    {
     "data": {
      "image/png": "[encoded data removed]",
      "text/plain": [
       "<Figure size 640x480 with 1 Axes>"
      ]
     },
     "metadata": {},
     "output_type": "display_data"
    }
   ],
   "source": [
    "df['open_account_flg'].hist();"
   ]
  },
  {
   "attachments": {},
   "cell_type": "markdown",
   "metadata": {},
   "source": [
    "**Начальная обработка датасета**\n",
    "1. Удаляем не нужные колонки ('client_id', 'living_region')\n",
    "2. Меняем тип колонок на числовой ('credit_sum', 'score_shk')\n",
    "3. Изменяем представление колонки 'gender' на бинарное. Переименовываем в 'female'"
   ]
  },
  {
   "cell_type": "code",
   "execution_count": 5,
   "metadata": {},
   "outputs": [],
   "source": [
    "transform_df(df)"
   ]
  },
  {
   "attachments": {},
   "cell_type": "markdown",
   "metadata": {},
   "source": [
    "**Проверяем датасет на пустые значения**"
   ]
  },
  {
   "cell_type": "code",
   "execution_count": 6,
   "metadata": {},
   "outputs": [
    {
     "data": {
      "text/plain": [
       "female                     0\n",
       "age                        0\n",
       "marital_status             0\n",
       "job_position               0\n",
       "credit_sum                 0\n",
       "credit_month               0\n",
       "tariff_id                  0\n",
       "score_shk                  0\n",
       "education                  0\n",
       "monthly_income             1\n",
       "credit_count            7365\n",
       "overdue_credit_count    7365\n",
       "open_account_flg           0\n",
       "dtype: int64"
      ]
     },
     "execution_count": 6,
     "metadata": {},
     "output_type": "execute_result"
    }
   ],
   "source": [
    "df.isnull().sum()"
   ]
  },
  {
   "attachments": {},
   "cell_type": "markdown",
   "metadata": {},
   "source": [
    "**Заполняем пропуски медианными значениями**"
   ]
  },
  {
   "cell_type": "code",
   "execution_count": 7,
   "metadata": {},
   "outputs": [],
   "source": [
    "imputer = SimpleImputer(strategy='median')\n",
    "\n",
    "for column in ['credit_count', 'overdue_credit_count', 'monthly_income']:\n",
    "\tdf[column] = imputer.fit_transform(df[column].values.reshape(-1, 1))"
   ]
  },
  {
   "cell_type": "code",
   "execution_count": 8,
   "metadata": {},
   "outputs": [
    {
     "data": {
      "text/plain": [
       "female                  0\n",
       "age                     0\n",
       "marital_status          0\n",
       "job_position            0\n",
       "credit_sum              0\n",
       "credit_month            0\n",
       "tariff_id               0\n",
       "score_shk               0\n",
       "education               0\n",
       "monthly_income          0\n",
       "credit_count            0\n",
       "overdue_credit_count    0\n",
       "open_account_flg        0\n",
       "dtype: int64"
      ]
     },
     "execution_count": 8,
     "metadata": {},
     "output_type": "execute_result"
    }
   ],
   "source": [
    "df.isnull().sum()"
   ]
  },
  {
   "attachments": {},
   "cell_type": "markdown",
   "metadata": {},
   "source": [
    "**Разделяем датасет на метки и признаки**"
   ]
  },
  {
   "cell_type": "code",
   "execution_count": 9,
   "metadata": {},
   "outputs": [],
   "source": [
    "y = df['open_account_flg']\n",
    "X = df.drop(('open_account_flg'), axis=1) "
   ]
  },
  {
   "attachments": {},
   "cell_type": "markdown",
   "metadata": {},
   "source": [
    "**Разделяем данные на тренировочные и проверочные**"
   ]
  },
  {
   "cell_type": "code",
   "execution_count": 10,
   "metadata": {},
   "outputs": [
    {
     "data": {
      "text/plain": [
       "(95617, 40979)"
      ]
     },
     "execution_count": 10,
     "metadata": {},
     "output_type": "execute_result"
    }
   ],
   "source": [
    "from sklearn.model_selection import train_test_split\n",
    "\n",
    "X_train, X_test, y_train, y_test = train_test_split(\n",
    "    X, \n",
    "    y, \n",
    "    test_size=0.3, \n",
    "    random_state=15\n",
    "    )\n",
    "X_train.shape[0], X_test.shape[0]"
   ]
  },
  {
   "attachments": {},
   "cell_type": "markdown",
   "metadata": {},
   "source": [
    "**Инициализируем модель для Классификации и тренируем ее**"
   ]
  },
  {
   "cell_type": "code",
   "execution_count": 11,
   "metadata": {},
   "outputs": [],
   "source": [
    "cb_clf = CatBoostClassifier(\n",
    "    random_state=17, \n",
    "    depth=4, \n",
    "    iterations=1000,\n",
    "    verbose=False\n",
    "    )"
   ]
  },
  {
   "cell_type": "code",
   "execution_count": 12,
   "metadata": {},
   "outputs": [],
   "source": [
    "cb_clf.fit(\n",
    "    X_train, \n",
    "    y_train, \n",
    "    cat_features=['marital_status', 'job_position', 'education', 'tariff_id']\n",
    "    );"
   ]
  },
  {
   "attachments": {},
   "cell_type": "markdown",
   "metadata": {},
   "source": [
    "Пару слов о том почему была выбрана эта модель:\n",
    "1. Данная модель показала наилучший результат по сравнению с другими моделями такими как RandomForestClassifier, LogisticRegression, LinearSVC, SGDClassifier\n",
    "2. Модель имеет встроеную обработку категориальных признаков\n",
    "3. Быстрая скорость обучения"
   ]
  },
  {
   "cell_type": "code",
   "execution_count": 13,
   "metadata": {},
   "outputs": [],
   "source": [
    "y_pred_proba = cb_clf.predict_proba(X_test)[:, 1]"
   ]
  },
  {
   "attachments": {},
   "cell_type": "markdown",
   "metadata": {},
   "source": [
    "**Проверяем модель на качество**"
   ]
  },
  {
   "cell_type": "code",
   "execution_count": 14,
   "metadata": {},
   "outputs": [
    {
     "data": {
      "text/plain": [
       "0.7605303614033498"
      ]
     },
     "execution_count": 14,
     "metadata": {},
     "output_type": "execute_result"
    }
   ],
   "source": [
    "roc_auc_score(y_test, y_pred_proba)"
   ]
  },
  {
   "cell_type": "code",
   "execution_count": 15,
   "metadata": {},
   "outputs": [],
   "source": [
    "fpr, tpr, thresholds = roc_curve(y_test, y_pred_proba)"
   ]
  },
  {
   "cell_type": "code",
   "execution_count": 16,
   "metadata": {},
   "outputs": [
    {
     "data": {
      "image/png": "[encoded data removed]",
      "text/plain": [
       "<Figure size 640x480 with 1 Axes>"
      ]
     },
     "metadata": {},
     "output_type": "display_data"
    }
   ],
   "source": [
    "roc_auc = auc(fpr, tpr)\n",
    "plt.plot(fpr, tpr, color='green', label='ROC = %0.2f' % roc_auc)\n",
    "plt.plot([0, 1], [0, 1], color='navy', linestyle='--')\n",
    "plt.xlabel('False Positive Rate')\n",
    "plt.ylabel('True Positive Rate')\n",
    "plt.title('График ROC-кривой');\n",
    "plt.legend();"
   ]
  },
  {
   "cell_type": "code",
   "execution_count": 17,
   "metadata": {},
   "outputs": [
    {
     "data": {
      "image/png": "[encoded data removed]",
      "text/plain": [
       "<Figure size 640x480 with 2 Axes>"
      ]
     },
     "metadata": {},
     "output_type": "display_data"
    }
   ],
   "source": [
    "optimal_idx = np.argmax(tpr - fpr)\n",
    "optimal_threshold = thresholds[optimal_idx]\n",
    "\n",
    "y_pred_proba_17 = (y_pred_proba >= optimal_threshold).astype(bool)\n",
    "plot_confusion_matrix(y_test, y_pred_proba_17, normalize=True);"
   ]
  },
  {
   "cell_type": "code",
   "execution_count": 18,
   "metadata": {},
   "outputs": [
    {
     "data": {
      "text/plain": [
       "0.44198707043211977"
      ]
     },
     "execution_count": 18,
     "metadata": {},
     "output_type": "execute_result"
    }
   ],
   "source": [
    "from sklearn.metrics import f1_score\n",
    "\n",
    "f1_score(y_test, (y_pred_proba >= optimal_threshold).astype(bool))"
   ]
  },
  {
   "cell_type": "code",
   "execution_count": 19,
   "metadata": {},
   "outputs": [
    {
     "data": {
      "text/plain": [
       "0.6977493312092524"
      ]
     },
     "execution_count": 19,
     "metadata": {},
     "output_type": "execute_result"
    }
   ],
   "source": [
    "roc_auc_score(y_test, y_pred_proba_17)"
   ]
  },
  {
   "attachments": {},
   "cell_type": "markdown",
   "metadata": {},
   "source": [
    "**Сохраняем модель для дальнейшего пользования**"
   ]
  },
  {
   "cell_type": "code",
   "execution_count": 20,
   "metadata": {},
   "outputs": [],
   "source": [
    "with open('model', 'wb') as files:\n",
    "    pickle.dump(cb_clf, files)"
   ]
  }
 ],
 "metadata": {
  "kernelspec": {
   "display_name": "techenv",
   "language": "python",
   "name": "python3"
  },
  "language_info": {
   "codemirror_mode": {
    "name": "ipython",
    "version": 3
   },
   "file_extension": ".py",
   "mimetype": "text/x-python",
   "name": "python",
   "nbconvert_exporter": "python",
   "pygments_lexer": "ipython3",
   "version": "3.9.16"
  },
  "orig_nbformat": 4,
  "vscode": {
   "interpreter": {
    "hash": "4d595c233faedfffeda05f711176e94712ffcb324c43f380292b12adb595b6b3"
   }
  }
 },
 "nbformat": 4,
 "nbformat_minor": 2
}
